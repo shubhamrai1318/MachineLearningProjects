{
  "nbformat": 4,
  "nbformat_minor": 0,
  "metadata": {
    "colab": {
      "provenance": [],
      "authorship_tag": "ABX9TyNPd1QM5JVHJjY4u64HBYva",
      "include_colab_link": true
    },
    "kernelspec": {
      "name": "python3",
      "display_name": "Python 3"
    },
    "language_info": {
      "name": "python"
    }
  },
  "cells": [
    {
      "cell_type": "markdown",
      "metadata": {
        "id": "view-in-github",
        "colab_type": "text"
      },
      "source": [
        "<a href=\"https://colab.research.google.com/github/shubhamrai1318/MachineLearningProjects/blob/main/Random_Forest.ipynb\" target=\"_parent\"><img src=\"https://colab.research.google.com/assets/colab-badge.svg\" alt=\"Open In Colab\"/></a>"
      ]
    },
    {
      "cell_type": "markdown",
      "source": [
        "# **Digit Recognition using RANDOM FOREST**"
      ],
      "metadata": {
        "id": "GuWgCMnBog1K"
      }
    },
    {
      "cell_type": "markdown",
      "source": [
        "### **Importing Basic Library**"
      ],
      "metadata": {
        "id": "JHKXKN5zojgR"
      }
    },
    {
      "cell_type": "code",
      "source": [
        "import pandas as pd\n",
        "import numpy as np"
      ],
      "metadata": {
        "id": "T6rY6OzAonzX"
      },
      "execution_count": 1,
      "outputs": []
    },
    {
      "cell_type": "markdown",
      "source": [
        "### **Mounting the drive and Load Dataset**\n"
      ],
      "metadata": {
        "id": "J6XjGLa8op6x"
      }
    },
    {
      "cell_type": "code",
      "source": [
        "from google.colab import drive\n",
        "drive.mount('/content/gdrive')"
      ],
      "metadata": {
        "colab": {
          "base_uri": "https://localhost:8080/"
        },
        "id": "1MwGOUvxo6dz",
        "outputId": "973700cb-40a4-4c71-c1dc-724aa605640d"
      },
      "execution_count": 2,
      "outputs": [
        {
          "output_type": "stream",
          "name": "stdout",
          "text": [
            "Mounted at /content/gdrive\n"
          ]
        }
      ]
    },
    {
      "cell_type": "code",
      "source": [
        "fileName = \"/content/gdrive/MyDrive/Data CsvFile/digit.csv\"\n",
        "dataset = pd.read_csv(fileName)"
      ],
      "metadata": {
        "id": "hOYdZ6YJo762"
      },
      "execution_count": 3,
      "outputs": []
    },
    {
      "cell_type": "markdown",
      "source": [
        "### **Summarize Dataset**"
      ],
      "metadata": {
        "id": "uy3JD3BFpWo2"
      }
    },
    {
      "cell_type": "code",
      "source": [
        "print(dataset.shape)\n",
        "print(dataset.sample(5))"
      ],
      "metadata": {
        "colab": {
          "base_uri": "https://localhost:8080/"
        },
        "id": "C1V8KuMjpbSV",
        "outputId": "7bb7083d-b3a2-4b2c-9aba-43fb2939694d"
      },
      "execution_count": 7,
      "outputs": [
        {
          "output_type": "stream",
          "name": "stdout",
          "text": [
            "(2290, 785)\n",
            "      label  pixel0  pixel1  pixel2  pixel3  pixel4  pixel5  pixel6  pixel7  \\\n",
            "56        2       0       0       0       0       0       0       0       0   \n",
            "1944      9       0       0       0       0       0       0       0       0   \n",
            "1622      4       0       0       0       0       0       0       0       0   \n",
            "439       9       0       0       0       0       0       0       0       0   \n",
            "1222      0       0       0       0       0       0       0       0       0   \n",
            "\n",
            "      pixel8  ...  pixel774  pixel775  pixel776  pixel777  pixel778  pixel779  \\\n",
            "56         0  ...       0.0       0.0       0.0       0.0       0.0       0.0   \n",
            "1944       0  ...       0.0       0.0       0.0       0.0       0.0       0.0   \n",
            "1622       0  ...       0.0       0.0       0.0       0.0       0.0       0.0   \n",
            "439        0  ...       0.0       0.0       0.0       0.0       0.0       0.0   \n",
            "1222       0  ...       0.0       0.0       0.0       0.0       0.0       0.0   \n",
            "\n",
            "      pixel780  pixel781  pixel782  pixel783  \n",
            "56         0.0       0.0       0.0       0.0  \n",
            "1944       0.0       0.0       0.0       0.0  \n",
            "1622       0.0       0.0       0.0       0.0  \n",
            "439        0.0       0.0       0.0       0.0  \n",
            "1222       0.0       0.0       0.0       0.0  \n",
            "\n",
            "[5 rows x 785 columns]\n"
          ]
        }
      ]
    },
    {
      "cell_type": "code",
      "source": [
        "dataset.info()"
      ],
      "metadata": {
        "colab": {
          "base_uri": "https://localhost:8080/"
        },
        "id": "M4uU5EWNprh1",
        "outputId": "d2c4b07d-05c9-47bb-d0b3-8b4c86fdb070"
      },
      "execution_count": 8,
      "outputs": [
        {
          "output_type": "stream",
          "name": "stdout",
          "text": [
            "<class 'pandas.core.frame.DataFrame'>\n",
            "RangeIndex: 2290 entries, 0 to 2289\n",
            "Columns: 785 entries, label to pixel783\n",
            "dtypes: float64(215), int64(570)\n",
            "memory usage: 13.7 MB\n"
          ]
        }
      ]
    },
    {
      "cell_type": "markdown",
      "source": [
        "### **Segregate Dataset into X(Input/IndependentVariable) & Y(Output/DependentVariable)**"
      ],
      "metadata": {
        "id": "rrV76PMnpePW"
      }
    },
    {
      "cell_type": "code",
      "source": [
        "X = dataset.iloc[:,1:]\n",
        "print(X)\n",
        "print(X.shape)\n"
      ],
      "metadata": {
        "colab": {
          "base_uri": "https://localhost:8080/"
        },
        "id": "1V3FixRep2Xg",
        "outputId": "d63998c4-cd07-4f7f-e05d-21de3dd5f7c0"
      },
      "execution_count": 9,
      "outputs": [
        {
          "output_type": "stream",
          "name": "stdout",
          "text": [
            "      pixel0  pixel1  pixel2  pixel3  pixel4  pixel5  pixel6  pixel7  pixel8  \\\n",
            "0          0       0       0       0       0       0       0       0       0   \n",
            "1          0       0       0       0       0       0       0       0       0   \n",
            "2          0       0       0       0       0       0       0       0       0   \n",
            "3          0       0       0       0       0       0       0       0       0   \n",
            "4          0       0       0       0       0       0       0       0       0   \n",
            "...      ...     ...     ...     ...     ...     ...     ...     ...     ...   \n",
            "2285       0       0       0       0       0       0       0       0       0   \n",
            "2286       0       0       0       0       0       0       0       0       0   \n",
            "2287       0       0       0       0       0       0       0       0       0   \n",
            "2288       0       0       0       0       0       0       0       0       0   \n",
            "2289       0       0       0       0       0       0       0       0       0   \n",
            "\n",
            "      pixel9  ...  pixel774  pixel775  pixel776  pixel777  pixel778  pixel779  \\\n",
            "0          0  ...       0.0       0.0       0.0       0.0       0.0       0.0   \n",
            "1          0  ...       0.0       0.0       0.0       0.0       0.0       0.0   \n",
            "2          0  ...       0.0       0.0       0.0       0.0       0.0       0.0   \n",
            "3          0  ...       0.0       0.0       0.0       0.0       0.0       0.0   \n",
            "4          0  ...       0.0       0.0       0.0       0.0       0.0       0.0   \n",
            "...      ...  ...       ...       ...       ...       ...       ...       ...   \n",
            "2285       0  ...       0.0       0.0       0.0       0.0       0.0       0.0   \n",
            "2286       0  ...       0.0       0.0       0.0       0.0       0.0       0.0   \n",
            "2287       0  ...       0.0       0.0       0.0       0.0       0.0       0.0   \n",
            "2288       0  ...       0.0       0.0       0.0       0.0       0.0       0.0   \n",
            "2289       0  ...       NaN       NaN       NaN       NaN       NaN       NaN   \n",
            "\n",
            "      pixel780  pixel781  pixel782  pixel783  \n",
            "0          0.0       0.0       0.0       0.0  \n",
            "1          0.0       0.0       0.0       0.0  \n",
            "2          0.0       0.0       0.0       0.0  \n",
            "3          0.0       0.0       0.0       0.0  \n",
            "4          0.0       0.0       0.0       0.0  \n",
            "...        ...       ...       ...       ...  \n",
            "2285       0.0       0.0       0.0       0.0  \n",
            "2286       0.0       0.0       0.0       0.0  \n",
            "2287       0.0       0.0       0.0       0.0  \n",
            "2288       0.0       0.0       0.0       0.0  \n",
            "2289       NaN       NaN       NaN       NaN  \n",
            "\n",
            "[2290 rows x 784 columns]\n",
            "(2290, 784)\n"
          ]
        }
      ]
    },
    {
      "cell_type": "code",
      "source": [
        "Y = dataset.iloc[:,0]\n",
        "print(Y)\n",
        "print(Y.shape)"
      ],
      "metadata": {
        "colab": {
          "base_uri": "https://localhost:8080/"
        },
        "id": "CzBo4tQap4HQ",
        "outputId": "e1ce0362-9cf8-49fe-9d92-93c8ebf01cda"
      },
      "execution_count": 10,
      "outputs": [
        {
          "output_type": "stream",
          "name": "stdout",
          "text": [
            "0       1\n",
            "1       0\n",
            "2       1\n",
            "3       4\n",
            "4       0\n",
            "       ..\n",
            "2285    1\n",
            "2286    0\n",
            "2287    2\n",
            "2288    2\n",
            "2289    7\n",
            "Name: label, Length: 2290, dtype: int64\n",
            "(2290,)\n"
          ]
        }
      ]
    },
    {
      "cell_type": "markdown",
      "source": [
        "### **ML Implementation**"
      ],
      "metadata": {
        "id": "mtN7F0AnqByM"
      }
    },
    {
      "cell_type": "code",
      "source": [
        "# Splitting Dataset into Test & Train\n",
        "from sklearn.model_selection import train_test_split\n",
        "X_train, X_test, y_train, y_test = train_test_split(X, Y, test_size = 0.25, random_state = 0)"
      ],
      "metadata": {
        "id": "_pXDempEqD1Y"
      },
      "execution_count": 16,
      "outputs": []
    },
    {
      "cell_type": "code",
      "source": [
        "# Filling the null values\n",
        "X_test = X_test.fillna(X_test.mean())"
      ],
      "metadata": {
        "id": "8FlLCKYHqUyb"
      },
      "execution_count": 17,
      "outputs": []
    },
    {
      "cell_type": "code",
      "source": [
        "# Training\n",
        "from sklearn.ensemble import RandomForestClassifier\n",
        "model = RandomForestClassifier()\n",
        "model.fit(X_train, y_train)\n",
        "\n",
        "y_pred = model.predict(X_test)"
      ],
      "metadata": {
        "id": "1925zPjOqFot"
      },
      "execution_count": 18,
      "outputs": []
    },
    {
      "cell_type": "code",
      "source": [
        "# Model Accuracy\n",
        "from sklearn.metrics import accuracy_score\n",
        "print(\"Accuracy of the Model: {0}%\".format(accuracy_score(y_test, y_pred)*100))"
      ],
      "metadata": {
        "colab": {
          "base_uri": "https://localhost:8080/"
        },
        "id": "olERtW-iqM0O",
        "outputId": "226f34d1-f2ae-4fa9-8ab3-e68efbc0948c"
      },
      "execution_count": 19,
      "outputs": [
        {
          "output_type": "stream",
          "name": "stdout",
          "text": [
            "Accuracy of the Model: 90.22687609075044%\n"
          ]
        }
      ]
    },
    {
      "cell_type": "code",
      "source": [
        "import matplotlib.pyplot as plt\n",
        "index=10\n",
        "print(\"Predicted \" + str(model.predict(X_test)[index]))\n",
        "plt.axis('off')\n",
        "plt.imshow(X_test.iloc[index].values.reshape((28,28)),cmap='gray')"
      ],
      "metadata": {
        "colab": {
          "base_uri": "https://localhost:8080/",
          "height": 442
        },
        "id": "dWp1zH3wqhVk",
        "outputId": "6563336b-7c19-4747-871b-115e74560955"
      },
      "execution_count": 20,
      "outputs": [
        {
          "output_type": "stream",
          "name": "stdout",
          "text": [
            "Predicted 4\n"
          ]
        },
        {
          "output_type": "execute_result",
          "data": {
            "text/plain": [
              "<matplotlib.image.AxesImage at 0x789f911831c0>"
            ]
          },
          "metadata": {},
          "execution_count": 20
        },
        {
          "output_type": "display_data",
          "data": {
            "text/plain": [
              "<Figure size 640x480 with 1 Axes>"
            ],
            "image/png": "[encoded data removed]"
          },
          "metadata": {}
        }
      ]
    }
  ]
}